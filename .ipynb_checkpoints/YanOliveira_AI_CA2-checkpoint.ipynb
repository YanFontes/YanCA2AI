{
 "cells": [
  {
   "cell_type": "markdown",
   "id": "ee248b88",
   "metadata": {},
   "source": [
    "# CA2 - Artificial Intelligence\n",
    "\n",
    "**Name:** Yan Kida Sanches Fontes Oliveira<br>\n",
    "**Student Number:** 2020336<br>\n",
    "**GitHub:** https://github.com/YanFontes/YanCA2AI"
   ]
  },
  {
   "cell_type": "markdown",
   "id": "9d9c182c",
   "metadata": {},
   "source": [
    "## Question 1 \n",
    "A puzzle has multiple ways of reaching the end solution. Fig. 1 shows a graph that represents all possible routes to the solution. The starting point of the game is represented by A, the solution is represented by S. The other points in the graph are possible intermediary stages. \n",
    "\n",
    "(a)\tThe graph in Fig. 1 is a visualisation of the problem.<br>\n",
    "    (i)\tIdentify the differences between a graph and a tree. [0-5] <br>\n",
    "    (ii)\tExplain in detail how the graph is an abstraction of the problem. [0-5] <br>\n",
    "    (iii)\tIdentify the advantages of using a visualisation such as the one shown in Fig. 1. [0-5]<br><br> \n",
    "(b)\tDemonstrate how Dijkstra’s algorithm would find the shortest path to the solution in Fig.1 through diagrams and written explanation of each stage. [0-25]\n",
    "\n",
    "\n"
   ]
  },
  {
   "cell_type": "markdown",
   "id": "c4d1f8bf",
   "metadata": {},
   "source": [
    "## Question 2\n",
    "The creator of the puzzle has been told that the A* algorithm is more efficient at finding the shortest path because it uses heuristics. Compare the performance of Dijkstra’s algorithm and the A* search algorithm, referring to heuristics, to find the shortest path to the problem by implementing both algorithms programmatically and comparing the solutions generated in Mark-down. Refer to the complexity of the algorithms and compare the actual time it takes for the solutions to be processed. [0-60]\n",
    "\n",
    "\n",
    "**1.** We started with the Graph representation in Python"
   ]
  },
  {
   "cell_type": "code",
   "execution_count": 1,
   "id": "de544cfb",
   "metadata": {},
   "outputs": [],
   "source": [
    "#Replicating giving graph to a python code\n",
    "graph = {\n",
    "    'A': {'B': 1, 'C': 5, 'H': 2},\n",
    "    'B': {'A': 1, 'C': 2, 'D': 4},\n",
    "    'C': {'A': 5, 'B': 2, 'G': 1},\n",
    "    'D': {'B': 4, 'E': 4, 'F': 7, 'L': 7},\n",
    "    'E': {'D': 4, 'F': 3, 'W': 6},\n",
    "    'F': {'D': 7, 'E': 3, 'G': 2},\n",
    "    'G': {'C': 1, 'F': 2, 'L': 3},\n",
    "    'H': {'A': 2, 'J': 9, 'K': 5},\n",
    "    'J': {'H': 9, 'K': 3, 'N': 6},\n",
    "    'K': {'H': 5, 'J': 3, 'L': 5},\n",
    "    'L': {'D': 7, 'G': 3, 'K': 5, 'N': 3, 'W': 8, 'V': 10, 'M': 4},\n",
    "    'M': {'L': 4, 'P': 2, 'Q': 10},\n",
    "    'N': {'J': 6, 'L': 3, 'S': 7, 'P': 4},\n",
    "    'P': {'N': 4, 'M': 2, 'R': 5},\n",
    "    'Q': {'W': 4, 'S': 8, 'M': 10},\n",
    "    'R': {'S': 4, 'P': 5, 'T': 3},\n",
    "    'S': {'V': 6, 'U': 2, 'T': 4, 'R': 4, 'N': 7, 'Q': 8},\n",
    "    'T': {'U': 1, 'S': 4, 'R': 3},\n",
    "    'U': {'V': 3, 'S': 2, 'T': 1},\n",
    "    'V': {'L': 10, 'W': 5, 'S': 6, 'U': 3},\n",
    "    'W': {'E': 6, 'L': 8, 'Q': 4, 'V': 5}\n",
    "}"
   ]
  },
  {
   "cell_type": "code",
   "execution_count": null,
   "id": "e40a732b",
   "metadata": {},
   "outputs": [],
   "source": []
  }
 ],
 "metadata": {
  "kernelspec": {
   "display_name": "Python 3 (ipykernel)",
   "language": "python",
   "name": "python3"
  },
  "language_info": {
   "codemirror_mode": {
    "name": "ipython",
    "version": 3
   },
   "file_extension": ".py",
   "mimetype": "text/x-python",
   "name": "python",
   "nbconvert_exporter": "python",
   "pygments_lexer": "ipython3",
   "version": "3.11.4"
  }
 },
 "nbformat": 4,
 "nbformat_minor": 5
}

{
 "cells": [
  {
   "cell_type": "markdown",
   "id": "ee248b88",
   "metadata": {},
   "source": [
    "# CA2 - Artificial Intelligence\n",
    "\n",
    "**Name:** Yan Kida Sanches Fontes Oliveira<br>\n",
    "**Student Number:** 2020336<br>\n",
    "**GitHub:** https://github.com/YanFontes/YanCA2AI"
   ]
  },
  {
   "cell_type": "markdown",
   "id": "9d9c182c",
   "metadata": {},
   "source": [
    "## Question 1 \n",
    "A puzzle has multiple ways of reaching the end solution. Fig. 1 shows a graph that represents all possible routes to the solution. The starting point of the game is represented by A, the solution is represented by S. The other points in the graph are possible intermediary stages. \n",
    "\n",
    "(a)\tThe graph in Fig. 1 is a visualisation of the problem.<br>\n",
    "(i)\tIdentify the differences between a graph and a tree. [0-5] <br>\n",
    "(ii)\tExplain in detail how the graph is an abstraction of the problem. [0-5] <br>\n",
    "(iii)\tIdentify the advantages of using a visualisation such as the one shown in Fig. 1. [0-5]<br><br> \n",
    "(b)\tDemonstrate how Dijkstra’s algorithm would find the shortest path to the solution in Fig.1 through diagrams and written explanation of each stage. [0-25]\n",
    "\n",
    "\n"
   ]
  },
  {
   "cell_type": "markdown",
   "id": "c4d1f8bf",
   "metadata": {},
   "source": [
    "## Question 2\n",
    "The creator of the puzzle has been told that the A* algorithm is more efficient at finding the shortest path because it uses heuristics. Compare the performance of Dijkstra’s algorithm and the A* search algorithm, referring to heuristics, to find the shortest path to the problem by implementing both algorithms programmatically and comparing the solutions generated in Mark-down. Refer to the complexity of the algorithms and compare the actual time it takes for the solutions to be processed. [0-60]"
   ]
  },
  {
   "cell_type": "code",
   "execution_count": null,
   "id": "de544cfb",
   "metadata": {},
   "outputs": [],
   "source": []
  }
 ],
 "metadata": {
  "kernelspec": {
   "display_name": "Python 3 (ipykernel)",
   "language": "python",
   "name": "python3"
  },
  "language_info": {
   "codemirror_mode": {
    "name": "ipython",
    "version": 3
   },
   "file_extension": ".py",
   "mimetype": "text/x-python",
   "name": "python",
   "nbconvert_exporter": "python",
   "pygments_lexer": "ipython3",
   "version": "3.11.4"
  }
 },
 "nbformat": 4,
 "nbformat_minor": 5
}
